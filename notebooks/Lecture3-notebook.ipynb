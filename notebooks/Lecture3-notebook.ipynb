{
 "cells": [
  {
   "cell_type": "code",
   "execution_count": 3,
   "metadata": {},
   "outputs": [
    {
     "name": "stdout",
     "output_type": "stream",
     "text": [
      "x is 0, 1, or 2\n"
     ]
    }
   ],
   "source": [
    "x = 1\n",
    "if x > 2:\n",
    "    print(\"x is bigger than 2\")\n",
    "elif x < 0:\n",
    "    print(\"x is negative\")\n",
    "else:\n",
    "    print(\"x is 0, 1, or 2\")\n"
   ]
  },
  {
   "cell_type": "code",
   "execution_count": 4,
   "metadata": {},
   "outputs": [
    {
     "data": {
      "text/plain": [
       "'Hello World'"
      ]
     },
     "execution_count": 4,
     "metadata": {},
     "output_type": "execute_result"
    }
   ],
   "source": [
    "\"Hello World\""
   ]
  },
  {
   "cell_type": "code",
   "execution_count": 14,
   "metadata": {},
   "outputs": [
    {
     "name": "stdout",
     "output_type": "stream",
     "text": [
      "value is odd\n",
      "value is  6783\n"
     ]
    }
   ],
   "source": [
    "import random\n",
    "value = random.randint(1000,9999)\n",
    "\n",
    "if value % 2 == 1:\n",
    "    print(\"value is odd\")\n",
    "print(\"value is \", value)\n",
    "\n"
   ]
  },
  {
   "cell_type": "code",
   "execution_count": 17,
   "metadata": {},
   "outputs": [],
   "source": [
    "even = 0\n",
    "odd = 0"
   ]
  },
  {
   "cell_type": "code",
   "execution_count": 21,
   "metadata": {},
   "outputs": [
    {
     "name": "stdout",
     "output_type": "stream",
     "text": [
      " value is  6196\n",
      "odds  24\n",
      "even  29\n"
     ]
    }
   ],
   "source": [
    "value = random.randint(1000,9999)\n",
    "if value % 2 == 1:\n",
    "    print(\"value is odd\")\n",
    "    odd += 1\n",
    "else:\n",
    "    even += 1\n",
    "print(\" value is \", value)\n",
    "print(\"odds \", odd)\n",
    "print(\"even \", even)"
   ]
  },
  {
   "cell_type": "code",
   "execution_count": 22,
   "metadata": {},
   "outputs": [
    {
     "name": "stdout",
     "output_type": "stream",
     "text": [
      "value is odd\n",
      " value is  6153\n",
      "odds  25\n",
      "even  29\n",
      "value is odd\n",
      " value is  1369\n",
      "odds  26\n",
      "even  29\n",
      "value is odd\n",
      " value is  4703\n",
      "odds  27\n",
      "even  29\n",
      " value is  1612\n",
      "odds  27\n",
      "even  30\n",
      " value is  2058\n",
      "odds  27\n",
      "even  31\n",
      " value is  9690\n",
      "odds  27\n",
      "even  32\n",
      "value is odd\n",
      " value is  1197\n",
      "odds  28\n",
      "even  32\n",
      "value is odd\n",
      " value is  5323\n",
      "odds  29\n",
      "even  32\n",
      " value is  8810\n",
      "odds  29\n",
      "even  33\n",
      " value is  7932\n",
      "odds  29\n",
      "even  34\n",
      " value is  3220\n",
      "odds  29\n",
      "even  35\n",
      " value is  8876\n",
      "odds  29\n",
      "even  36\n",
      "value is odd\n",
      " value is  3429\n",
      "odds  30\n",
      "even  36\n",
      " value is  7006\n",
      "odds  30\n",
      "even  37\n",
      "value is odd\n",
      " value is  6551\n",
      "odds  31\n",
      "even  37\n",
      "value is odd\n",
      " value is  8451\n",
      "odds  32\n",
      "even  37\n",
      "value is odd\n",
      " value is  5537\n",
      "odds  33\n",
      "even  37\n",
      "value is odd\n",
      " value is  1195\n",
      "odds  34\n",
      "even  37\n",
      " value is  4058\n",
      "odds  34\n",
      "even  38\n",
      " value is  2126\n",
      "odds  34\n",
      "even  39\n",
      " value is  5384\n",
      "odds  34\n",
      "even  40\n",
      "value is odd\n",
      " value is  5703\n",
      "odds  35\n",
      "even  40\n",
      "value is odd\n",
      " value is  7757\n",
      "odds  36\n",
      "even  40\n",
      "value is odd\n",
      " value is  9291\n",
      "odds  37\n",
      "even  40\n",
      " value is  8784\n",
      "odds  37\n",
      "even  41\n",
      "value is odd\n",
      " value is  1193\n",
      "odds  38\n",
      "even  41\n",
      " value is  8506\n",
      "odds  38\n",
      "even  42\n",
      " value is  1534\n",
      "odds  38\n",
      "even  43\n",
      " value is  6844\n",
      "odds  38\n",
      "even  44\n",
      " value is  9270\n",
      "odds  38\n",
      "even  45\n",
      " value is  7408\n",
      "odds  38\n",
      "even  46\n",
      "value is odd\n",
      " value is  3847\n",
      "odds  39\n",
      "even  46\n",
      "value is odd\n",
      " value is  6139\n",
      "odds  40\n",
      "even  46\n",
      "value is odd\n",
      " value is  4477\n",
      "odds  41\n",
      "even  46\n",
      " value is  6418\n",
      "odds  41\n",
      "even  47\n",
      "value is odd\n",
      " value is  3659\n",
      "odds  42\n",
      "even  47\n",
      "value is odd\n",
      " value is  8583\n",
      "odds  43\n",
      "even  47\n",
      "value is odd\n",
      " value is  1351\n",
      "odds  44\n",
      "even  47\n",
      " value is  8556\n",
      "odds  44\n",
      "even  48\n",
      "value is odd\n",
      " value is  6489\n",
      "odds  45\n",
      "even  48\n",
      "value is odd\n",
      " value is  9047\n",
      "odds  46\n",
      "even  48\n",
      "value is odd\n",
      " value is  4405\n",
      "odds  47\n",
      "even  48\n",
      "value is odd\n",
      " value is  3909\n",
      "odds  48\n",
      "even  48\n",
      " value is  2058\n",
      "odds  48\n",
      "even  49\n",
      "value is odd\n",
      " value is  4871\n",
      "odds  49\n",
      "even  49\n",
      "value is odd\n",
      " value is  7363\n",
      "odds  50\n",
      "even  49\n",
      " value is  2162\n",
      "odds  50\n",
      "even  50\n",
      "value is odd\n",
      " value is  2759\n",
      "odds  51\n",
      "even  50\n",
      " value is  3416\n",
      "odds  51\n",
      "even  51\n",
      " value is  7002\n",
      "odds  51\n",
      "even  52\n"
     ]
    }
   ],
   "source": [
    "count= 0\n",
    "while count < 50:\n",
    "    value = random.randint(1000,9999)\n",
    "    if value % 2 == 1:\n",
    "        print(\"value is odd\")\n",
    "        odd += 1\n",
    "    else:\n",
    "        even += 1\n",
    "    print(\" value is \", value)\n",
    "    print(\"odds \", odd)\n",
    "    print(\"even \", even)\n",
    "    count+= 1"
   ]
  },
  {
   "cell_type": "code",
   "execution_count": 23,
   "metadata": {},
   "outputs": [
    {
     "name": "stdout",
     "output_type": "stream",
     "text": [
      "Hello World!\n",
      "Hello World!\n",
      "Hello World!\n",
      "Hello World!\n",
      "Hello World!\n"
     ]
    }
   ],
   "source": [
    "for step in range(5):\n",
    "    print(\"Hello World!\")\n",
    "    "
   ]
  }
 ],
 "metadata": {
  "kernelspec": {
   "display_name": "Python 3",
   "language": "python",
   "name": "python3"
  },
  "language_info": {
   "codemirror_mode": {
    "name": "ipython",
    "version": 3
   },
   "file_extension": ".py",
   "mimetype": "text/x-python",
   "name": "python",
   "nbconvert_exporter": "python",
   "pygments_lexer": "ipython3",
   "version": "3.10.8"
  },
  "orig_nbformat": 4
 },
 "nbformat": 4,
 "nbformat_minor": 2
}
